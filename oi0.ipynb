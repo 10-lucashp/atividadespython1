{
  "cells": [
    {
      "cell_type": "markdown",
      "metadata": {
        "id": "view-in-github",
        "colab_type": "text"
      },
      "source": [
        "<a href=\"https://colab.research.google.com/github/10-lucashp/atividadespython1/blob/main/oi0.ipynb\" target=\"_parent\"><img src=\"https://colab.research.google.com/assets/colab-badge.svg\" alt=\"Open In Colab\"/></a>"
      ]
    },
    {
      "cell_type": "code",
      "execution_count": null,
      "metadata": {
        "id": "RUPysjWVDwRD"
      },
      "outputs": [],
      "source": [
        "##Prova dnv\n"
      ]
    },
    {
      "cell_type": "markdown",
      "metadata": {
        "id": "vUFWC6quDzp3"
      },
      "source": [
        "##exercicio 1\n"
      ]
    },
    {
      "cell_type": "code",
      "execution_count": null,
      "metadata": {
        "colab": {
          "base_uri": "https://localhost:8080/"
        },
        "id": "h8u88AhPETZP",
        "outputId": "56c5bacd-c280-4e4c-91d8-b04a3904e7bd"
      },
      "outputs": [
        {
          "name": "stdout",
          "output_type": "stream",
          "text": [
            "Digite um dia entre 1 e 31 =32\n",
            "Número invalido\n"
          ]
        }
      ],
      "source": [
        "dia = int(input(\"Digite um dia entre 1 e 31 =\"))\n",
        "\n",
        "if (dia>=1 and dia<=31):\n",
        "  print(\"Número Valido\")\n",
        "  if (dia>=1 and dia<=7):\n",
        "    print(\"Lua Nova\")\n",
        "  elif (dia>=8 and dia<=14):\n",
        "    print(\"Quarto Crescente\")\n",
        "  elif (dia>=15 and dia<=21):\n",
        "    print(\"Lua Cheia\")\n",
        "  elif (dia>=22 and dia<=29):\n",
        "    print(\" Quarto Minguante\")\n",
        "  else:\n",
        "    print(\"Inicio do novo ciclo lunar\")\n",
        "else:\n",
        "  print(\"Número invalido\")\n",
        "\n",
        "\n",
        "\n",
        "\n",
        "\n"
      ]
    },
    {
      "cell_type": "code",
      "execution_count": null,
      "metadata": {
        "colab": {
          "base_uri": "https://localhost:8080/"
        },
        "id": "2x9zOwXAHzW-",
        "outputId": "c08629bb-016a-4a9c-ce1c-4c17b2b9e13a"
      },
      "outputs": [
        {
          "name": "stdout",
          "output_type": "stream",
          "text": [
            "Digite sua energia entre 1 e 100 = 100\n",
            "Digite sua classe: \n",
            "1 para Mago \n",
            "Digite 2 para guerreiro \n",
            "Digite 3 para Arqueiro: 3\n"
          ]
        }
      ],
      "source": [
        "energia = int(input(\"Digite sua energia entre 1 e 100 = \"))\n",
        "classe = int(input(\"Digite sua classe: \\n1 para Mago \\nDigite 2 para guerreiro \\nDigite 3 para Arqueiro: \"))"
      ]
    },
    {
      "cell_type": "code",
      "execution_count": null,
      "metadata": {
        "id": "gKqbR8ldHsfY"
      },
      "outputs": [],
      "source": [
        "if (energia>=1 and energia<=100):\n",
        "  print(\"Logado\")\n",
        "  if (classe ==1):\n",
        "    print(\"Classe selecionada Mago\")\n",
        "  energia = energia * 1.5\n",
        "\n",
        "    print(\"Quarto Crescente\")\n",
        "  elif (dia>=15 and dia<=21):\n",
        "    print(\"Lua Cheia\")\n",
        "  elif (dia>=22 and dia<=29):\n",
        "    print(\" Quarto Minguante\")\n",
        "  else:\n",
        "    print(\"Inicio do novo ciclo lunar\")\n",
        "else:\n",
        "  print(\"Número invalido\")\n",
        "\n"
      ]
    },
    {
      "cell_type": "code",
      "execution_count": null,
      "metadata": {
        "colab": {
          "base_uri": "https://localhost:8080/"
        },
        "id": "VXLw68ShM-Cw",
        "outputId": "6695a4b6-5c4e-46be-e22a-6240ef7e44a0"
      },
      "outputs": [
        {
          "name": "stdout",
          "output_type": "stream",
          "text": [
            "Digite sua renda familiar mensal em  R$= 5000\n"
          ]
        }
      ],
      "source": [
        "rendafammensal = int(input(\"Digite sua renda familiar mensal em  R$= \"))"
      ]
    },
    {
      "cell_type": "code",
      "execution_count": null,
      "metadata": {
        "colab": {
          "background_save": true,
          "base_uri": "https://localhost:8080/"
        },
        "id": "xj_c5RKANjPP",
        "outputId": "c58d311f-ee36-4f1d-a7e9-df9dadf1d286"
      },
      "outputs": [
        {
          "name": "stdout",
          "output_type": "stream",
          "text": [
            "Pode participar\n",
            "Particular\n"
          ]
        }
      ],
      "source": [
        "if (rendafammensal <0):\n",
        "  print(\"Renda inválida\")\n",
        "elif (rendafammensal >5000):\n",
        "    print(\"Não participa da bolsa. Só participam candidatos com renda menor ou igual a R$ 5.000.\")\n",
        "else:\n",
        "    print(\"Pode participar\")\n",
        "    escolaridade = int(input(\"Digite o formato de escola onde você estuda: \\nDigite 1 para Pública \\nDigite 2 para Particular \"))\n",
        "    if (escolaridade == 1):\n",
        "      print(\"Pública\")\n",
        "    elif (escolaridade == 2):\n",
        "      print(\"Particular\")\n",
        "    else:\n",
        "      print(\"Número Invalido selecione de 1 a 3\")\n",
        "    notamat = int(input(\"Coloque sua nota de matemática = \"))\n",
        "    notaport = int(input(\"Digite sua nota de português = \"))\n",
        "    notacoge = int(input(\"Digite sua nota de Conhecimentos Gerais = \"))\n",
        "\n",
        "\n",
        "    if (notamat >=0 and notamat <=10):\n",
        "      print(\"Número válido\")\n",
        "    elif (notaport >=0 and notaport <=10):\n",
        "      print(\"Número válido\")\n",
        "    elif (notacoge >=0 and notacoge <=10):\n",
        "      print(\"Número válido\")\n",
        "      notafinal = (((notamat + notaport) + notacoge) /3)\n",
        "      print(\"sua nota final é:\", notafinal)\n",
        "    else:\n",
        "      print(\"Número inválido\")\n",
        "\n",
        "\n"
      ]
    }
  ],
  "metadata": {
    "colab": {
      "provenance": [],
      "authorship_tag": "ABX9TyORXy9coSi0PMxDAd2MTj9u",
      "include_colab_link": true
    },
    "kernelspec": {
      "display_name": "Python 3",
      "name": "python3"
    },
    "language_info": {
      "name": "python"
    }
  },
  "nbformat": 4,
  "nbformat_minor": 0
}